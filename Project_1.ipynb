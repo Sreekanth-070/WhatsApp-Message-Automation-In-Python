{
 "cells": [
  {
   "cell_type": "code",
   "execution_count": 19,
   "id": "0fe5291a-821a-479c-98c0-ce94dfa9d1bc",
   "metadata": {},
   "outputs": [],
   "source": [
    "#Whatsapp message Automation Project \n",
    "#Libraries Used: twilio, datetime module, time\n",
    "#Get the required libraries\n",
    "#twilio clinet setup\n",
    "#user inputs\n",
    "#Schuduling logic\n",
    "#send message\n",
    "\n",
    "from twilio.rest import Client\n",
    "from datetime import datetime, timedelta\n",
    "import time"
   ]
  },
  {
   "cell_type": "code",
   "execution_count": 21,
   "id": "be23c163-6fb6-40e3-98ce-83dba5009d60",
   "metadata": {},
   "outputs": [],
   "source": [
    "#twilio credentails\n",
    "account_sid = 'ACfc326ccc916d1b010a3920a13f9c7c8e'\n",
    "auth_token = '737342ab69e782b71b20ee544e93d216'\n",
    "client = Client(account_sid, auth_token)"
   ]
  },
  {
   "cell_type": "code",
   "execution_count": 23,
   "id": "3c134054-70a0-4239-9c6a-adc6a35bf62b",
   "metadata": {},
   "outputs": [],
   "source": [
    "#Design send message\n",
    "def send_whatsapp_message(recipient_number, message):\n",
    "    try:\n",
    "        message = client.messages.create(\n",
    "            from_='whatsapp:+14155238886',\n",
    "            body=message,\n",
    "            to=f'whatsapp:{recipient_number}'\n",
    "        )\n",
    "        print(f'Message sent successfully to {recipient_number}: {message.sid}')\n",
    "    except Exception as e:\n",
    "        print(f'Error sending message: {e}')"
   ]
  },
  {
   "cell_type": "code",
   "execution_count": 33,
   "id": "212fcb7b-9c7d-4029-bd3f-18993d81a2bc",
   "metadata": {},
   "outputs": [
    {
     "name": "stdin",
     "output_type": "stream",
     "text": [
      "Enter your name:  Srikanth\n",
      "Enter the recipient's whatsapp number with country code :  +918179593251\n",
      "Enter the message you want to send to Srikanth:  This is my new project\n",
      "Enter the date to send the message (YYYY-MM-DD):  2025-07-14\n",
      "Enter the time to send the message (HH:MM)in 24 hr format:  21:29\n"
     ]
    },
    {
     "name": "stdout",
     "output_type": "stream",
     "text": [
      "Message schuduled to be sent to Srikanth at 2025-07-14 21:29:00.\n",
      "Message sent successfully to +918179593251: SMd0f8bc357324f3d493931823990f7f57\n"
     ]
    }
   ],
   "source": [
    "#Take the input from the user\n",
    "name = input(\"Enter your name: \")\n",
    "recipient_number = input(\"Enter the recipient's whatsapp number with country code : \")\n",
    "message = input(f\"Enter the message you want to send to {name}: \")\n",
    "\n",
    "#parse date/time and calculate the delay\n",
    "date_str = input(\"Enter the date to send the message (YYYY-MM-DD): \")\n",
    "time_str = input(\"Enter the time to send the message (HH:MM)in 24 hr format: \")\n",
    "\n",
    "#datetime\n",
    "schedule_datetime = datetime.strptime(f\"{date_str} {time_str}\", \"%Y-%m-%d %H:%M\")\n",
    "current_datetime = datetime.now()\n",
    "\n",
    "#calculate Delay & #send message\n",
    "time_difference = schedule_datetime - current_datetime\n",
    "delay_seconds = time_difference.total_seconds()\n",
    "\n",
    "if delay_seconds<=0:\n",
    "  print('The specified time is in the past.Please enter a future date and time: ')\n",
    "else:\n",
    "  print(f'Message schuduled to be sent to {name} at {schedule_datetime}.')\n",
    "  time.sleep(delay_seconds)\n",
    "\n",
    "  #send message\n",
    "  send_whatsapp_message(recipient_number, message)"
   ]
  },
  {
   "cell_type": "code",
   "execution_count": null,
   "id": "497d8f37-2ef9-43bb-8224-b8467a6b07d3",
   "metadata": {},
   "outputs": [],
   "source": []
  }
 ],
 "metadata": {
  "kernelspec": {
   "display_name": "Python [conda env:base] *",
   "language": "python",
   "name": "conda-base-py"
  },
  "language_info": {
   "codemirror_mode": {
    "name": "ipython",
    "version": 3
   },
   "file_extension": ".py",
   "mimetype": "text/x-python",
   "name": "python",
   "nbconvert_exporter": "python",
   "pygments_lexer": "ipython3",
   "version": "3.12.7"
  }
 },
 "nbformat": 4,
 "nbformat_minor": 5
}
